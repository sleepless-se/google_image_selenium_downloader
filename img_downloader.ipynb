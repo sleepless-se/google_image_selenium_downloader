{
 "cells": [
  {
   "cell_type": "code",
   "execution_count": 1,
   "metadata": {
    "collapsed": false
   },
   "outputs": [],
   "source": [
    "from selenium import webdriver\n",
    "from selenium.webdriver.common.keys import Keys\n",
    "import time\n",
    "import requests"
   ]
  },
  {
   "cell_type": "code",
   "execution_count": 2,
   "metadata": {
    "collapsed": false
   },
   "outputs": [],
   "source": [
    "def read_img_page_url():\n",
    "    elems = driver.find_elements_by_class_name(\"rg_l\")\n",
    "    img_page_urls =[]\n",
    "    for i in range(len(elems)):\n",
    "        elm = elems[i]\n",
    "        item_page_url = elm.get_attribute(\"href\")\n",
    "#         print(item_page_url)\n",
    "        img_page_urls.append(item_page_url)\n",
    "    return img_page_urls\n",
    "\n"
   ]
  },
  {
   "cell_type": "code",
   "execution_count": 3,
   "metadata": {
    "collapsed": false
   },
   "outputs": [],
   "source": [
    "def show_all_img():\n",
    "    import time\n",
    "    for i in range(5):\n",
    "        time.sleep(1)\n",
    "        driver.execute_script(\"window.scrollTo(0, document.body.scrollHeight);\")\n",
    "        time.sleep(1)\n",
    "    driver.find_element_by_id(\"smb\").click()\n",
    "    for i in range(5):\n",
    "        time.sleep(1)\n",
    "        driver.execute_script(\"window.scrollTo(0, document.body.scrollHeight);\")\n",
    "        time.sleep(1)"
   ]
  },
  {
   "cell_type": "code",
   "execution_count": 18,
   "metadata": {
    "collapsed": false
   },
   "outputs": [],
   "source": [
    "# image xpaths\n",
    "list =[\"//img[@class='irc_mi']\",\"//*[@id='irc_cc']/div[2]/div[1]/div[2]/div[3]/a/img\"]\n",
    "\n",
    "def read(list):\n",
    "    for i in range(len(list)):\n",
    "        elms = driver.find_elements_by_xpath(list[i])\n",
    "        if len(elms) > 0:\n",
    "            return elms[0]"
   ]
  },
  {
   "cell_type": "code",
   "execution_count": 13,
   "metadata": {
    "collapsed": false
   },
   "outputs": [],
   "source": []
  },
  {
   "cell_type": "code",
   "execution_count": 4,
   "metadata": {
    "collapsed": true
   },
   "outputs": [],
   "source": [
    "\n",
    "def download(url):\n",
    "    file_name = url.split(\"/\")[-1]\n",
    "    res = requests.get(url, stream=True)\n",
    "    if res.status_code == 200:\n",
    "        with open(file_name, 'wb') as file:\n",
    "            for chunk in res.iter_content(chunk_size=1024):\n",
    "                file.write(chunk)\n",
    "                \n"
   ]
  },
  {
   "cell_type": "code",
   "execution_count": 5,
   "metadata": {
    "collapsed": false
   },
   "outputs": [],
   "source": [
    "if __name__ == '__main__':\n",
    "    driver = webdriver.Firefox()\n",
    "    keyword = \"猫\"\n",
    "    driver.get(\"https://www.google.co.jp/search?q=\"+keyword+\"&source=lnms&tbm=isch\")\n",
    "#     show_all_img()\n",
    "    urls = read_img_page_url()\n",
    "    \n",
    "\n",
    "    \n"
   ]
  },
  {
   "cell_type": "code",
   "execution_count": 19,
   "metadata": {
    "collapsed": false,
    "scrolled": false
   },
   "outputs": [
    {
     "name": "stdout",
     "output_type": "stream",
     "text": [
      "https://www.google.co.jp/imgres?imgurl=https%3A%2F%2Fupload.wikimedia.org%2Fwikipedia%2Fcommons%2Fthumb%2F9%2F9e%2F2016-06-14_Orange_and_white_tabby_cat_born_in_2016_%25E8%258C%25B6%25E3%2583%2588%25E3%2583%25A9%25E7%2599%25BD%25E3%2581%25AD%25E3%2581%2593_DSCF6526%25E2%2598%2586%25E5%25BD%25A1.jpg%2F200px-2016-06-14_Orange_and_white_tabby_cat_born_in_2016_%25E8%258C%25B6%25E3%2583%2588%25E3%2583%25A9%25E7%2599%25BD%25E3%2581%25AD%25E3%2581%2593_DSCF6526%25E2%2598%2586%25E5%25BD%25A1.jpg&imgrefurl=https%3A%2F%2Fja.wikipedia.org%2Fwiki%2F%25E3%2583%258D%25E3%2582%25B3&docid=-fmMe8ASwpZ2BM&tbnid=JItpTG6FJrAE8M%3A&vet=10ahUKEwjp54C0vIjTAhWKu7wKHTlmCy4QMwgcKAAwAA..i&w=200&h=300&bih=578&biw=1080&q=%E7%8C%AB&ved=0ahUKEwjp54C0vIjTAhWKu7wKHTlmCy4QMwgcKAAwAA&iact=mrc&uact=8\n",
      "https://www.google.co.jp/imgres?imgurl=https%3A%2F%2Fupload.wikimedia.org%2Fwikipedia%2Fcommons%2Fe%2Fe0%2F2016-06-12_Orange_and_white_tabby_cat_born_in_2016_%25E8%258C%25B6%25E3%2583%2588%25E3%2583%25A9%25E7%2599%25BD%25E3%2581%25AD%25E3%2581%2593%25E5%25AD%2590%25E7%258C%25AB_2016%25E5%25B9%25B4%25E7%2594%259F%25E3%2581%25BE%25E3%2582%258C_DSCF6403%25E2%2598%2586%25E5%25BD%25A1.jpg&imgrefurl=https%3A%2F%2Fja.wikipedia.org%2Fwiki%2F%25E3%2583%258D%25E3%2582%25B3&docid=-fmMe8ASwpZ2BM&tbnid=V4rZHnUiyUEz9M%3A&vet=10ahUKEwjp54C0vIjTAhWKu7wKHTlmCy4QMwgdKAEwAQ..i&w=2304&h=1536&bih=578&biw=1080&q=%E7%8C%AB&ved=0ahUKEwjp54C0vIjTAhWKu7wKHTlmCy4QMwgdKAEwAQ&iact=mrc&uact=8\n",
      "https://www.google.co.jp/imgres?imgurl=http%3A%2F%2Fnyanpedia.com%2Fwp-content%2Fuploads%2F2015%2F12%2F%25E7%258C%25AB%25E3%2580%2580%25E5%2591%25BC%25E5%2590%25B8.jpg&imgrefurl=http%3A%2F%2Fnyanpedia.com%2Fpost-4971%2F&docid=MbisBJyzapZqmM&tbnid=PN935aZ2fxmTVM%3A&vet=10ahUKEwjp54C0vIjTAhWKu7wKHTlmCy4QMwgeKAIwAg..i&w=2000&h=1500&bih=578&biw=1080&q=%E7%8C%AB&ved=0ahUKEwjp54C0vIjTAhWKu7wKHTlmCy4QMwgeKAIwAg&iact=mrc&uact=8\n",
      "https://www.google.co.jp/imgres?imgurl=https%3A%2F%2Fpbs.twimg.com%2Fprofile_images%2F450801182135422976%2F-69lntRh.jpeg&imgrefurl=https%3A%2F%2Ftwitter.com%2Fmoflicious&docid=9P4uWpH6GxxRQM&tbnid=ZIs7yL_dBufneM%3A&vet=10ahUKEwjp54C0vIjTAhWKu7wKHTlmCy4QMwgfKAMwAw..i&w=1252&h=1252&bih=578&biw=1080&q=%E7%8C%AB&ved=0ahUKEwjp54C0vIjTAhWKu7wKHTlmCy4QMwgfKAMwAw&iact=mrc&uact=8\n",
      "https://www.google.co.jp/imgres?imgurl=http%3A%2F%2Ftetoan.com%2Fwp-content%2Fuploads%2F2015%2F05%2F%25E3%2583%258B%25E3%2582%25B3%25E3%2583%258B%25E3%2582%25B3%25E7%25AC%2591%25E3%2581%2586%25E7%258C%25AB.jpg&imgrefurl=http%3A%2F%2Ftetoan.com%2Fcat-trivia%2Fpurr%2F&docid=DoWkE7eVRwJbAM&tbnid=vTF16nlNllomzM%3A&vet=10ahUKEwjp54C0vIjTAhWKu7wKHTlmCy4QMwggKAQwBA..i&w=400&h=265&bih=578&biw=1080&q=%E7%8C%AB&ved=0ahUKEwjp54C0vIjTAhWKu7wKHTlmCy4QMwggKAQwBA&iact=mrc&uact=8\n",
      "https://www.google.co.jp/imgres?imgurl=https%3A%2F%2Fcdn-ak.f.st-hatena.com%2Fimages%2Ffotolife%2Ft%2Ftakayuki2525%2F20160722%2F20160722001238.jpg&imgrefurl=http%3A%2F%2Fwww.takayuki-blog.com%2Fentry%2Fwagayanopet&docid=SLNNjPdXi6h4wM&tbnid=iOVSPyAAgvx5JM%3A&vet=10ahUKEwjp54C0vIjTAhWKu7wKHTlmCy4QMwghKAUwBQ..i&w=900&h=600&bih=578&biw=1080&q=%E7%8C%AB&ved=0ahUKEwjp54C0vIjTAhWKu7wKHTlmCy4QMwghKAUwBQ&iact=mrc&uact=8\n",
      "https://www.google.co.jp/imgres?imgurl=http%3A%2F%2Ftetoan.com%2Fwp-content%2Fuploads%2F2015%2F04%2F%25E6%2580%2592%25E3%2581%25A3%25E3%2581%259F%25E9%25A1%2594%25E3%2581%25AE%25E7%258C%25AB.jpg&imgrefurl=http%3A%2F%2Ftetoan.com%2Fcat-trivia%2Fbiting-sweet%2F&docid=AGVuIqXl2_ERUM&tbnid=eQ3I6Z6YWax30M%3A&vet=10ahUKEwjp54C0vIjTAhWKu7wKHTlmCy4QMwgiKAYwBg..i&w=400&h=265&bih=578&biw=1080&q=%E7%8C%AB&ved=0ahUKEwjp54C0vIjTAhWKu7wKHTlmCy4QMwgiKAYwBg&iact=mrc&uact=8\n",
      "https://www.google.co.jp/imgres?imgurl=http%3A%2F%2Ftetoan.com%2Fwp-content%2Fuploads%2F2015%2F05%2F%25E3%2583%258B%25E3%2583%25A3%25E3%2582%25A6%25E3%2583%25AA%25E3%2583%25B3%25E3%2582%25AC%25E3%2583%25AB%25E3%2581%25AB%25E7%25AD%2594%25E3%2581%2588%25E3%2582%258B%25E7%258C%25AB.jpg&imgrefurl=http%3A%2F%2Ftetoan.com%2Fcat-trivia%2Fpurr%2F&docid=DoWkE7eVRwJbAM&tbnid=Mwos6sxiqsJ4QM%3A&vet=10ahUKEwjp54C0vIjTAhWKu7wKHTlmCy4QMwgjKAcwBw..i&w=400&h=265&bih=578&biw=1080&q=%E7%8C%AB&ved=0ahUKEwjp54C0vIjTAhWKu7wKHTlmCy4QMwgjKAcwBw&iact=mrc&uact=8\n",
      "https://www.google.co.jp/imgres?imgurl=https%3A%2F%2Fnekogazou.com%2Fwp-content%2Fuploads%2F2015%2F10%2F4ab5442a6d977922bcbe8850ff4b40bc.jpg&imgrefurl=https%3A%2F%2Fnekogazou.com%2F0419gege%2F&docid=lPO_EK9oTNPJWM&tbnid=NRsrjSSCGDAjJM%3A&vet=10ahUKEwjp54C0vIjTAhWKu7wKHTlmCy4QMwgkKAgwCA..i&w=600&h=480&bih=578&biw=1080&q=%E7%8C%AB&ved=0ahUKEwjp54C0vIjTAhWKu7wKHTlmCy4QMwgkKAgwCA&iact=mrc&uact=8\n",
      "https://www.google.co.jp/imgres?imgurl=http%3A%2F%2Fnews.biglobe.ne.jp%2Fimg%2Fblnews%2Fanimal160128_02.jpg&imgrefurl=http%3A%2F%2Fyaba-tan.net%2Farchives%2F12951&docid=W68wUJqHW2-rFM&tbnid=TKuxD8DLenhGFM%3A&vet=10ahUKEwjp54C0vIjTAhWKu7wKHTlmCy4QMwglKAkwCQ..i&w=599&h=685&bih=578&biw=1080&q=%E7%8C%AB&ved=0ahUKEwjp54C0vIjTAhWKu7wKHTlmCy4QMwglKAkwCQ&iact=mrc&uact=8\n",
      "https://www.google.co.jp/imgres?imgurl=http%3A%2F%2Fstatic.pinky-media.jp%2Fmatome%2Ffile%2Fparts%2FI0010974%2Ffb0998f222acaadd1a3cb064eeb359a0.jpg&imgrefurl=http%3A%2F%2Fpinky-media.jp%2FI0010974&docid=-NqI9gZVi2z8FM&tbnid=HtxRG7XQtvBN5M%3A&vet=10ahUKEwjp54C0vIjTAhWKu7wKHTlmCy4QMwgmKAowCg..i&w=4013&h=3739&bih=578&biw=1080&q=%E7%8C%AB&ved=0ahUKEwjp54C0vIjTAhWKu7wKHTlmCy4QMwgmKAowCg&iact=mrc&uact=8\n",
      "https://www.google.co.jp/imgres?imgurl=https%3A%2F%2Fimage.excite.co.jp%2Ffeed%2Fwoman%2Fimg%2Fwoman%2Fspecial%2F20160222141531057%2Fcommon_special_list%2FC160222025219.jpg&imgrefurl=http%3A%2F%2Fwoman.excite.co.jp%2Ffeature%2Flifestyle%2Fnekonohi2016%2F&docid=CvD3b75K4xChxM&tbnid=to5vqdbUDkwAvM%3A&vet=10ahUKEwjp54C0vIjTAhWKu7wKHTlmCy4QMwgnKAswCw..i&w=600&h=375&bih=578&biw=1080&q=%E7%8C%AB&ved=0ahUKEwjp54C0vIjTAhWKu7wKHTlmCy4QMwgnKAswCw&iact=mrc&uact=8\n",
      "https://www.google.co.jp/imgres?imgurl=https%3A%2F%2Fupload.wikimedia.org%2Fwikipedia%2Fcommons%2Fthumb%2F3%2F33%2FHannibal_Poenaru_-_Nasty_cat_%2521_%2528by-sa%2529.jpg%2F270px-Hannibal_Poenaru_-_Nasty_cat_%2521_%2528by-sa%2529.jpg&imgrefurl=https%3A%2F%2Fja.wikipedia.org%2Fwiki%2F%25E3%2583%258D%25E3%2582%25B3&docid=-fmMe8ASwpZ2BM&tbnid=fTOZvtEASe19YM%3A&vet=10ahUKEwjp54C0vIjTAhWKu7wKHTlmCy4QMwgoKAwwDA..i&w=270&h=215&bih=578&biw=1080&q=%E7%8C%AB&ved=0ahUKEwjp54C0vIjTAhWKu7wKHTlmCy4QMwgoKAwwDA&iact=mrc&uact=8\n",
      "https://www.google.co.jp/imgres?imgurl=http%3A%2F%2Fimage.itmedia.co.jp%2Fnl%2Farticles%2F1701%2F18%2Fkm170118_hikakuneko02.jpg&imgrefurl=http%3A%2F%2Fnlab.itmedia.co.jp%2Fnl%2Farticles%2F1701%2F18%2Fnews135.html&docid=O5VUFOJwOo-2fM&tbnid=E7Gg4N-YfD4R9M%3A&vet=10ahUKEwjp54C0vIjTAhWKu7wKHTlmCy4QMwgpKA0wDQ..i&w=450&h=450&bih=578&biw=1080&q=%E7%8C%AB&ved=0ahUKEwjp54C0vIjTAhWKu7wKHTlmCy4QMwgpKA0wDQ&iact=mrc&uact=8\n",
      "https://www.google.co.jp/imgres?imgurl=https%3A%2F%2Fcbchintaicom-singlehack.s3.amazonaws.com%2Fcontent%2Fuploads%2F2015%2F01%2FRed-kitten.jpg&imgrefurl=https%3A%2F%2Fcbchintai.com%2Fsinglehack%2F858%2F&docid=cOr39TH_F9ygPM&tbnid=GMFoVNJQiO4rKM%3A&vet=10ahUKEwjp54C0vIjTAhWKu7wKHTlmCy4QMwgqKA4wDg..i&w=1380&h=920&bih=578&biw=1080&q=%E7%8C%AB&ved=0ahUKEwjp54C0vIjTAhWKu7wKHTlmCy4QMwgqKA4wDg&iact=mrc&uact=8\n",
      "https://www.google.co.jp/imgres?imgurl=https%3A%2F%2Fnekogazou.com%2Fwp-content%2Fuploads%2F2015%2F09%2F51f2b9302880a8b07bfc952fea0eba97.jpg&imgrefurl=https%3A%2F%2Fnekogazou.com%2F0929sutoresu%2F&docid=bk7jmjAjh6Y7UM&tbnid=QAo5E8Po4j9ZzM%3A&vet=10ahUKEwjp54C0vIjTAhWKu7wKHTlmCy4QMwgrKA8wDw..i&w=640&h=480&bih=578&biw=1080&q=%E7%8C%AB&ved=0ahUKEwjp54C0vIjTAhWKu7wKHTlmCy4QMwgrKA8wDw&iact=mrc&uact=8\n",
      "https://www.google.co.jp/imgres?imgurl=http%3A%2F%2Ffarm6.staticflickr.com%2F5613%2F15634745431_af629b9374.jpg&imgrefurl=http%3A%2F%2Fj-town.net%2Ftokyo%2Fnews%2Flocalnews%2F226238.html&docid=NIhq2OqUNlyDmM&tbnid=jMlCotVGiNOS_M%3A&vet=10ahUKEwjp54C0vIjTAhWKu7wKHTlmCy4QMwgsKBAwEA..i&w=500&h=374&bih=578&biw=1080&q=%E7%8C%AB&ved=0ahUKEwjp54C0vIjTAhWKu7wKHTlmCy4QMwgsKBAwEA&iact=mrc&uact=8\n",
      "https://www.google.co.jp/imgres?imgurl=http%3A%2F%2Ftetoan.com%2Fwp-content%2Fuploads%2F2015%2F04%2F%25E4%25BD%2595%25E3%2581%258B%25E3%2582%2592%25E8%25A6%258B%25E3%2581%25A4%25E3%2582%2581%25E3%2582%258B%25E3%2583%2599%25E3%2583%25B3%25E3%2582%25AC%25E3%2583%25AB%25E7%258C%25AB%25E3%2581%25AE%25E5%25AD%2590%25E7%258C%25AB.jpg&imgrefurl=http%3A%2F%2Ftetoan.com%2Fcat-list%2F&docid=obvjSrt4dtWOXM&tbnid=m7nHfROzup_06M%3A&vet=10ahUKEwjp54C0vIjTAhWKu7wKHTlmCy4QMwgtKBEwEQ..i&w=400&h=265&bih=578&biw=1080&q=%E7%8C%AB&ved=0ahUKEwjp54C0vIjTAhWKu7wKHTlmCy4QMwgtKBEwEQ&iact=mrc&uact=8\n",
      "https://www.google.co.jp/imgres?imgurl=http%3A%2F%2Fcdn-ak.f.st-hatena.com%2Fimages%2Ffotolife%2Fs%2Fsynchrox%2F20160222%2F20160222021021.jpg&imgrefurl=http%3A%2F%2Fanimallife.hatenablog.com%2Fentry%2F2016%2F02%2F04%2F022932&docid=nk9AyitB-HsMvM&tbnid=TC0f2IAKZHm2hM%3A&vet=10ahUKEwjp54C0vIjTAhWKu7wKHTlmCy4QMwguKBIwEg..i&w=640&h=360&bih=578&biw=1080&q=%E7%8C%AB&ved=0ahUKEwjp54C0vIjTAhWKu7wKHTlmCy4QMwguKBIwEg&iact=mrc&uact=8\n",
      "https://www.google.co.jp/imgres?imgurl=http%3A%2F%2Flivedoor.blogimg.jp%2Flaba_q%2Fimgs%2Ff%2F1%2Ff1251807.jpg&imgrefurl=http%3A%2F%2Flabaq.com%2Farchives%2F51867759.html&docid=CXR-rqNJCjXfpM&tbnid=3pzN6v1bL7rAlM%3A&vet=10ahUKEwjp54C0vIjTAhWKu7wKHTlmCy4QMwgvKBMwEw..i&w=500&h=371&bih=578&biw=1080&q=%E7%8C%AB&ved=0ahUKEwjp54C0vIjTAhWKu7wKHTlmCy4QMwgvKBMwEw&iact=mrc&uact=8\n",
      "https://www.google.co.jp/imgres?imgurl=https%3A%2F%2Fi.ytimg.com%2Fvi%2Foq20w95OlSY%2Fhqdefault.jpg&imgrefurl=https%3A%2F%2Fwww.youtube.com%2Fwatch%3Fv%3Doq20w95OlSY&docid=OkNzRSzatFLQjM&tbnid=LY9Itg2SbF8F9M%3A&vet=10ahUKEwjp54C0vIjTAhWKu7wKHTlmCy4QMwg6KBQwFA..i&w=480&h=360&bih=578&biw=1080&q=%E7%8C%AB&ved=0ahUKEwjp54C0vIjTAhWKu7wKHTlmCy4QMwg6KBQwFA&iact=mrc&uact=8\n",
      "https://www.google.co.jp/imgres?imgurl=https%3A%2F%2Fimage.pet-home.jp%2Fuser_file%2F2017%2F04%2F01%2F869772_th320.jpg&imgrefurl=http%3A%2F%2Fwww.pet-home.jp%2Fcats%2F&docid=-wB5k6MsB50nIM&tbnid=EAJiCxN0JtZGqM%3A&vet=10ahUKEwjp54C0vIjTAhWKu7wKHTlmCy4QMwg7KBUwFQ..i&w=320&h=320&bih=578&biw=1080&q=%E7%8C%AB&ved=0ahUKEwjp54C0vIjTAhWKu7wKHTlmCy4QMwg7KBUwFQ&iact=mrc&uact=8\n"
     ]
    },
    {
     "ename": "AttributeError",
     "evalue": "'NoneType' object has no attribute 'get_attribute'",
     "output_type": "error",
     "traceback": [
      "\u001b[0;31m---------------------------------------------------------------------------\u001b[0m",
      "\u001b[0;31mAttributeError\u001b[0m                            Traceback (most recent call last)",
      "\u001b[0;32m<ipython-input-19-e9393c81712d>\u001b[0m in \u001b[0;36m<module>\u001b[0;34m()\u001b[0m\n\u001b[1;32m      4\u001b[0m     \u001b[0;32mtry\u001b[0m\u001b[0;34m:\u001b[0m\u001b[0;34m\u001b[0m\u001b[0m\n\u001b[1;32m      5\u001b[0m         \u001b[0melm\u001b[0m \u001b[0;34m=\u001b[0m \u001b[0mread\u001b[0m\u001b[0;34m(\u001b[0m\u001b[0mlist\u001b[0m\u001b[0;34m)\u001b[0m\u001b[0;34m\u001b[0m\u001b[0m\n\u001b[0;32m----> 6\u001b[0;31m         \u001b[0mimg_url\u001b[0m \u001b[0;34m=\u001b[0m \u001b[0melm\u001b[0m\u001b[0;34m.\u001b[0m\u001b[0mget_attribute\u001b[0m\u001b[0;34m(\u001b[0m\u001b[0;34m\"src\"\u001b[0m\u001b[0;34m)\u001b[0m\u001b[0;34m\u001b[0m\u001b[0m\n\u001b[0m\u001b[1;32m      7\u001b[0m         \u001b[0mdownload\u001b[0m\u001b[0;34m(\u001b[0m\u001b[0mimg_url\u001b[0m\u001b[0;34m)\u001b[0m\u001b[0;34m\u001b[0m\u001b[0m\n\u001b[1;32m      8\u001b[0m         \u001b[0mtime\u001b[0m\u001b[0;34m.\u001b[0m\u001b[0msleep\u001b[0m\u001b[0;34m(\u001b[0m\u001b[0;36m3\u001b[0m\u001b[0;34m)\u001b[0m\u001b[0;34m\u001b[0m\u001b[0m\n",
      "\u001b[0;31mAttributeError\u001b[0m: 'NoneType' object has no attribute 'get_attribute'"
     ]
    }
   ],
   "source": [
    "    for i in range(len(urls)):\n",
    "        print (urls[i])\n",
    "        driver.get(urls[i])\n",
    "        try:\n",
    "            elm = read(list)\n",
    "            img_url = elm.get_attribute(\"src\")\n",
    "            download(img_url)\n",
    "            time.sleep(3)\n",
    "        except ValueError:\n",
    "            print(\"//img[@class='irc_mi'] didn't find.\")"
   ]
  },
  {
   "cell_type": "code",
   "execution_count": null,
   "metadata": {
    "collapsed": true
   },
   "outputs": [],
   "source": [
    "    \n",
    "    driver.close()\n"
   ]
  },
  {
   "cell_type": "code",
   "execution_count": null,
   "metadata": {
    "collapsed": true
   },
   "outputs": [],
   "source": []
  }
 ],
 "metadata": {
  "kernelspec": {
   "display_name": "Python 3",
   "language": "python",
   "name": "python3"
  },
  "language_info": {
   "codemirror_mode": {
    "name": "ipython",
    "version": 3
   },
   "file_extension": ".py",
   "mimetype": "text/x-python",
   "name": "python",
   "nbconvert_exporter": "python",
   "pygments_lexer": "ipython3",
   "version": "3.5.0"
  }
 },
 "nbformat": 4,
 "nbformat_minor": 1
}
